{
  "nbformat": 4,
  "nbformat_minor": 0,
  "metadata": {
    "colab": {
      "name": "Untitled5.ipynb",
      "provenance": []
    },
    "kernelspec": {
      "name": "python3",
      "display_name": "Python 3"
    }
  },
  "cells": [
    {
      "cell_type": "code",
      "metadata": {
        "id": "IAqkKpZgOOVw"
      },
      "source": [
        "import tweepy\r\n",
        "from textblob import TextBlob\r\n",
        "import re\r\n",
        "import pandas as pd"
      ],
      "execution_count": 39,
      "outputs": []
    },
    {
      "cell_type": "code",
      "metadata": {
        "id": "icFJbFM-O2Gu"
      },
      "source": [
        "consumer_key= '1BMPtqx17ZSLIty2EBtNjkf6w'\r\n",
        "consumer_secret= '4NWCsNou9NbSe9YIFIsUa2TvFK4UAbE6wNzrhB9cPPFbTPqs74'\r\n",
        "access_token= '884241594018275328-i5mg2FHroHcYFB9elnTioaPYDANaY0E'\r\n",
        "access_token_secret= 'rDvQlRB0SK3S90mHz9ebuSlUpEsZaOK5Q9LBnmecMBWNB'"
      ],
      "execution_count": 40,
      "outputs": []
    },
    {
      "cell_type": "code",
      "metadata": {
        "id": "O3S06knySAS0"
      },
      "source": [
        "auth = tweepy.OAuthHandler(consumer_key, consumer_secret)\r\n",
        "auth.set_access_token(access_token, access_token_secret)\r\n",
        "api = tweepy.API(auth)"
      ],
      "execution_count": 41,
      "outputs": []
    },
    {
      "cell_type": "code",
      "metadata": {
        "id": "MCDPWGUmPBl0"
      },
      "source": [
        "def polarity(analysis):\r\n",
        "\tthreshold = 0\r\n",
        "\tif analysis == threshold:\r\n",
        "\t\treturn 'Neutral'\r\n",
        "\telif analysis > threshold:\r\n",
        "\t\treturn 'Positive'\r\n",
        "\telse:\r\n",
        "\t\treturn 'Negative'"
      ],
      "execution_count": 42,
      "outputs": []
    },
    {
      "cell_type": "code",
      "metadata": {
        "id": "SwlFGdGySIpY"
      },
      "source": [
        "def clean_tweet(tweet):\r\n",
        "\tcleanedtweet = ' '.join(re.sub(\"(@[A-Za-z0-9]+)|([^0-9A-Za-z \\t])|(\\w+:\\/\\/\\S+'')\", \" \", tweet).split())\r\n",
        "\treturn cleanedtweet\r\n"
      ],
      "execution_count": 43,
      "outputs": []
    },
    {
      "cell_type": "code",
      "metadata": {
        "id": "_6ona6i8SMR0"
      },
      "source": [
        "query = 'Harbolnas'\r\n",
        "max_tweets = 1000\r\n",
        "public_tweets = [status for status in tweepy.Cursor(api.search, q=query).items(max_tweets)]\r\n",
        "tweet_txt = []\r\n",
        "tweet_stm = []\r\n",
        "searched_tweets = []\r\n",
        "last_id = -1\r\n",
        "while len(searched_tweets) < max_tweets:\r\n",
        "    count = max_tweets - len(searched_tweets)\r\n",
        "    try:\r\n",
        "        new_tweets = api.search(q=query, count=count, max_id=str(last_id - 1))\r\n",
        "        if not new_tweets:\r\n",
        "            break\r\n",
        "        searched_tweets.extend(new_tweets)\r\n",
        "        last_id = new_tweets[-1].id\r\n",
        "    except tweepy.TweepError as e:\r\n",
        "        # depending on TweepError.code, one may want to retry or wait\r\n",
        "        # to keep things simple, we will give up on an error\r\n",
        "        break\r\n"
      ],
      "execution_count": 38,
      "outputs": []
    },
    {
      "cell_type": "code",
      "metadata": {
        "id": "rjrOi1f1SOOQ"
      },
      "source": [
        "for tweet in public_tweets:\r\n",
        "    cleanedtext = clean_tweet(tweet.text)\r\n",
        "    tweet_txt.append(cleanedtext)\r\n",
        "    analysis = TextBlob(cleanedtext)\r\n",
        "    tweet_stm.append(polarity(analysis.sentiment.polarity))"
      ],
      "execution_count": 44,
      "outputs": []
    },
    {
      "cell_type": "code",
      "metadata": {
        "id": "sdlNgsubYAfP"
      },
      "source": [
        "download_dir = \"hasilCrawling.csv\""
      ],
      "execution_count": 45,
      "outputs": []
    },
    {
      "cell_type": "code",
      "metadata": {
        "colab": {
          "base_uri": "https://localhost:8080/"
        },
        "id": "bPQeAmoqZLsz",
        "outputId": "c4881d2e-2ea9-4d64-b335-d7b9a5a3401f"
      },
      "source": [
        "df = pd.DataFrame(\r\n",
        "    {\r\n",
        "        \"text\" : tweet_txt,\r\n",
        "        \"polarity\" : tweet_stm\r\n",
        "    }\r\n",
        ")\r\n",
        "df.to_csv(download_dir)\r\n",
        "\r\n",
        "#Step 7 Membaca data dari file CSV\r\n",
        "colnames = ['text','polarity']\r\n",
        "data = pd.read_csv('hasilCrawling.csv')\r\n",
        "\r\n",
        "data_info=data.polarity.value_counts()\r\n",
        "l = len(data)\r\n",
        "print (\"Neutral :\"+str( (data_info['Neutral'] / l) * 100) + \" %\" )\r\n",
        "print (\"Positive :\"+str( (data_info['Positive'] / l) * 100) + \" %\" )\r\n",
        "print (\"Negative :\"+str( (data_info['Negative'] / l) * 100) + \" %\" )"
      ],
      "execution_count": 46,
      "outputs": [
        {
          "output_type": "stream",
          "text": [
            "Neutral :96.89999999999999 %\n",
            "Positive :2.5 %\n",
            "Negative :0.6 %\n"
          ],
          "name": "stdout"
        }
      ]
    },
    {
      "cell_type": "code",
      "metadata": {
        "id": "Br7q5euQZOG-"
      },
      "source": [
        ""
      ],
      "execution_count": 46,
      "outputs": []
    }
  ]
}